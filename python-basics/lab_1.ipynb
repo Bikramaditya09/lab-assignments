{
 "cells": [
  {
   "cell_type": "code",
   "execution_count": 37,
   "id": "f39725f8",
   "metadata": {},
   "outputs": [],
   "source": [
    "# Setup\n",
    "# Install Python:\n",
    "\n",
    "# Visit: https://www.python.org/downloads/\n",
    "\n",
    "# Install the latest version (recommend 3.10 or later).\n",
    "\n",
    "# Install Anaconda (Recommended):\n",
    "\n",
    "# Visit: https://www.anaconda.com/products/distribution\n",
    "\n",
    "# Download and install for your OS.\n",
    "\n",
    "# Verify installation:\n",
    "\n",
    "# Open Anaconda Navigator or launch Jupyter Notebook.\n",
    "\n",
    "# In terminal or Anaconda prompt, run: python --version"
   ]
  },
  {
   "cell_type": "code",
   "execution_count": 1,
   "id": "87ef35f4",
   "metadata": {},
   "outputs": [
    {
     "name": "stdout",
     "output_type": "stream",
     "text": [
      "Enter a number: 10\n",
      "10 is Even\n"
     ]
    }
   ],
   "source": [
    "# Part 2: Basic Python Programming\n",
    "#A. Write a Python program to check if a number is even or odd\n",
    "num = int(input(\"Enter a number: \"))\n",
    "\n",
    "if num % 2 == 0:\n",
    "    print(f\"{num} is Even\")\n",
    "else:\n",
    "    print(f\"{num} is Odd\")"
   ]
  },
  {
   "cell_type": "code",
   "execution_count": 2,
   "id": "d9ae6086",
   "metadata": {},
   "outputs": [
    {
     "name": "stdout",
     "output_type": "stream",
     "text": [
      "1\n",
      "2\n",
      "3\n",
      "4\n",
      "5\n",
      "6\n",
      "7\n",
      "8\n",
      "9\n",
      "10\n"
     ]
    }
   ],
   "source": [
    "#B. Use a loop to print the first 10 natural numbers\n",
    "for i in range(1, 11):\n",
    "    print(i)"
   ]
  },
  {
   "cell_type": "code",
   "execution_count": 3,
   "id": "89de3b47",
   "metadata": {},
   "outputs": [
    {
     "name": "stdout",
     "output_type": "stream",
     "text": [
      "Factorial of 5 is: 120\n"
     ]
    }
   ],
   "source": [
    "# C. Write a function that returns the factorial of a number\n",
    "def factorial(n):\n",
    "    result = 1\n",
    "    for i in range(2, n + 1):\n",
    "        result *= i\n",
    "    return result\n",
    "\n",
    "print(\"Factorial of 5 is:\", factorial(5))"
   ]
  },
  {
   "cell_type": "code",
   "execution_count": 4,
   "id": "4c5fd2eb",
   "metadata": {},
   "outputs": [
    {
     "name": "stdout",
     "output_type": "stream",
     "text": [
      "Enter a word: aba\n",
      "It's a palindrome!\n"
     ]
    }
   ],
   "source": [
    "#D. Create a function that checks if a string is a palindrome\n",
    "def is_palindrome(s):\n",
    "    return s == s[::-1]\n",
    "\n",
    "word = input(\"Enter a word: \")\n",
    "if is_palindrome(word):\n",
    "    print(\"It's a palindrome!\")\n",
    "else:\n",
    "    print(\"Not a palindrome.\")"
   ]
  },
  {
   "cell_type": "code",
   "execution_count": 5,
   "id": "9bff0665",
   "metadata": {},
   "outputs": [
    {
     "name": "stdout",
     "output_type": "stream",
     "text": [
      "Sum exceeded 100 with total: 105\n"
     ]
    }
   ],
   "source": [
    "#E. Use a while loop to sum numbers until the total exceeds 100\n",
    "total = 0\n",
    "i = 1\n",
    "\n",
    "while total <= 100:\n",
    "    total += i\n",
    "    i += 1\n",
    "\n",
    "print(\"Sum exceeded 100 with total:\", total)"
   ]
  },
  {
   "cell_type": "code",
   "execution_count": 6,
   "id": "2b8dfafe",
   "metadata": {},
   "outputs": [],
   "source": [
    "# Lab Assignment: Working with Lists, Dictionaries, and File Handling"
   ]
  },
  {
   "cell_type": "code",
   "execution_count": 7,
   "id": "d54e96cd",
   "metadata": {},
   "outputs": [
    {
     "name": "stdout",
     "output_type": "stream",
     "text": [
      "Squares: [4, 16, 36, 64, 100]\n"
     ]
    }
   ],
   "source": [
    "# Part 1: List Operations\n",
    "#A. Create a list of 5 numbers. Print the square of each number.\n",
    "numbers = [2, 4, 6, 8, 10]\n",
    "squares = [num ** 2 for num in numbers]\n",
    "print(\"Squares:\", squares)"
   ]
  },
  {
   "cell_type": "code",
   "execution_count": 8,
   "id": "bd5fa525",
   "metadata": {},
   "outputs": [
    {
     "name": "stdout",
     "output_type": "stream",
     "text": [
      "Sorted list: [2, 3, 4, 6, 8, 10]\n"
     ]
    }
   ],
   "source": [
    "#B. Add a new number to the list and sort it in ascending order\n",
    "numbers.append(3)\n",
    "numbers.sort()\n",
    "print(\"Sorted list:\", numbers)"
   ]
  },
  {
   "cell_type": "code",
   "execution_count": 9,
   "id": "3bee7040",
   "metadata": {},
   "outputs": [
    {
     "name": "stdout",
     "output_type": "stream",
     "text": [
      "List after removing max: [2, 3, 4, 6, 8]\n"
     ]
    }
   ],
   "source": [
    "#C. Remove the largest number from the list\n",
    "numbers.remove(max(numbers))\n",
    "print(\"List after removing max:\", numbers)"
   ]
  },
  {
   "cell_type": "code",
   "execution_count": 10,
   "id": "97bd49e1",
   "metadata": {},
   "outputs": [
    {
     "name": "stdout",
     "output_type": "stream",
     "text": [
      "{'Alice': 85, 'Bob': 92, 'Charlie': 78}\n"
     ]
    }
   ],
   "source": [
    "# Part 2: Dictionary Operations\n",
    "# A. Create a dictionary with student names as keys and marks as values\n",
    "marks = {\"Alice\": 85, \"Bob\": 92, \"Charlie\": 78}\n",
    "print(marks)"
   ]
  },
  {
   "cell_type": "code",
   "execution_count": 11,
   "id": "1009fad4",
   "metadata": {},
   "outputs": [
    {
     "name": "stdout",
     "output_type": "stream",
     "text": [
      "Updated marks: {'Alice': 90, 'Bob': 92, 'Charlie': 78, 'Diana': 88}\n"
     ]
    }
   ],
   "source": [
    "#B. Add a new student and update marks for an existing student\n",
    "marks[\"Diana\"] = 88\n",
    "marks[\"Alice\"] = 90\n",
    "print(\"Updated marks:\", marks)"
   ]
  },
  {
   "cell_type": "code",
   "execution_count": 12,
   "id": "b65c9ad6",
   "metadata": {},
   "outputs": [
    {
     "name": "stdout",
     "output_type": "stream",
     "text": [
      "Alice scored 90\n",
      "Bob scored 92\n",
      "Diana scored 88\n"
     ]
    }
   ],
   "source": [
    "#C. Print all students who scored above 80\n",
    "for name, score in marks.items():\n",
    "    if score > 80:\n",
    "        print(f\"{name} scored {score}\")"
   ]
  },
  {
   "cell_type": "code",
   "execution_count": 13,
   "id": "8965923d",
   "metadata": {},
   "outputs": [],
   "source": [
    "# Part 3: File Handling\n",
    "# A. Write the student marks dictionary to a file called student_marks.txt\n",
    "with open(\"student_marks.txt\", \"w\") as f:\n",
    "    for name, score in marks.items():\n",
    "        f.write(f\"{name}: {score}\\n\")"
   ]
  },
  {
   "cell_type": "code",
   "execution_count": 15,
   "id": "ccadadca",
   "metadata": {},
   "outputs": [
    {
     "name": "stdout",
     "output_type": "stream",
     "text": [
      "File content:\n",
      " Alice: 90\n",
      "Bob: 92\n",
      "Charlie: 78\n",
      "Diana: 88\n",
      "\n"
     ]
    }
   ],
   "source": [
    "# B. Read the contents of student_marks.txt and print them\n",
    "with open(\"student_marks.txt\", \"r\") as f:\n",
    "    content = f.read()\n",
    "    print(\"File content:\\n\", content)"
   ]
  },
  {
   "cell_type": "code",
   "execution_count": 16,
   "id": "c3191b47",
   "metadata": {},
   "outputs": [
    {
     "name": "stdout",
     "output_type": "stream",
     "text": [
      "Reconstructed dictionary: {'Alice': 90, 'Bob': 92, 'Charlie': 78, 'Diana': 88}\n"
     ]
    }
   ],
   "source": [
    "#C. Read the file line by line and create a new dictionary from it\n",
    "new_marks = {}\n",
    "with open(\"student_marks.txt\", \"r\") as f:\n",
    "    for line in f:\n",
    "        name, score = line.strip().split(\": \")\n",
    "        new_marks[name] = int(score)\n",
    "\n",
    "print(\"Reconstructed dictionary:\", new_marks)"
   ]
  },
  {
   "cell_type": "code",
   "execution_count": 17,
   "id": "aff94256",
   "metadata": {},
   "outputs": [
    {
     "data": {
      "text/plain": [
       "'Write a program that:\\n\\nAccepts 5 student names and scores from user input\\n\\nStores them in a dictionary\\n\\nWrites the dictionary to a file\\n\\nThen reads the file back and prints the top 3 students'"
      ]
     },
     "execution_count": 17,
     "metadata": {},
     "output_type": "execute_result"
    }
   ],
   "source": [
    "'''Write a program that:\n",
    "\n",
    "Accepts 5 student names and scores from user input\n",
    "\n",
    "Stores them in a dictionary\n",
    "\n",
    "Writes the dictionary to a file\n",
    "\n",
    "Then reads the file back and prints the top 3 students'''"
   ]
  },
  {
   "cell_type": "code",
   "execution_count": 18,
   "id": "73bdc225",
   "metadata": {},
   "outputs": [
    {
     "name": "stdout",
     "output_type": "stream",
     "text": [
      "Employee data written to employee.json\n"
     ]
    }
   ],
   "source": [
    "# JSON Read/Write\n",
    "# A. Create a dictionary and write it to a JSON file\n",
    "import json\n",
    "\n",
    "employee_data = {\n",
    "    \"name\": \"John Doe\",\n",
    "    \"age\": 30,\n",
    "    \"department\": \"HR\",\n",
    "    \"skills\": [\"communication\", \"management\"]\n",
    "}\n",
    "\n",
    "with open(\"employee.json\", \"w\") as f:\n",
    "    json.dump(employee_data, f, indent=4)\n",
    "\n",
    "print(\"Employee data written to employee.json\")\n"
   ]
  },
  {
   "cell_type": "code",
   "execution_count": 19,
   "id": "ce1c9b55",
   "metadata": {},
   "outputs": [
    {
     "name": "stdout",
     "output_type": "stream",
     "text": [
      "Employee Data: {'name': 'John Doe', 'age': 30, 'department': 'HR', 'skills': ['communication', 'management']}\n",
      "Name: John Doe\n",
      "Skills: communication, management\n"
     ]
    }
   ],
   "source": [
    "# B. Read the JSON file and print the contents\n",
    "with open(\"employee.json\", \"r\") as f:\n",
    "    data = json.load(f)\n",
    "\n",
    "print(\"Employee Data:\", data)\n",
    "print(\"Name:\", data[\"name\"])\n",
    "print(\"Skills:\", \", \".join(data[\"skills\"]))"
   ]
  },
  {
   "cell_type": "code",
   "execution_count": 20,
   "id": "d6fff4a6",
   "metadata": {},
   "outputs": [
    {
     "name": "stdout",
     "output_type": "stream",
     "text": [
      "Updated employee data with new skill saved.\n"
     ]
    }
   ],
   "source": [
    "#C. Update the data (add a new skill) and save it back\n",
    "data[\"skills\"].append(\"teamwork\")\n",
    "\n",
    "with open(\"employee.json\", \"w\") as f:\n",
    "    json.dump(data, f, indent=4)\n",
    "\n",
    "print(\"Updated employee data with new skill saved.\")"
   ]
  },
  {
   "cell_type": "code",
   "execution_count": 21,
   "id": "72d453a5",
   "metadata": {},
   "outputs": [
    {
     "name": "stdout",
     "output_type": "stream",
     "text": [
      "Enter numerator: 10\n",
      "Enter denominator: 0\n",
      "Error: You cannot divide by zero.\n"
     ]
    }
   ],
   "source": [
    "# Exception Handling\n",
    "# A. Handle division by zero\n",
    "try:\n",
    "    a = int(input(\"Enter numerator: \"))\n",
    "    b = int(input(\"Enter denominator: \"))\n",
    "    result = a / b\n",
    "    print(\"Result:\", result)\n",
    "except ZeroDivisionError:\n",
    "    print(\"Error: You cannot divide by zero.\")"
   ]
  },
  {
   "cell_type": "code",
   "execution_count": 22,
   "id": "010fa104",
   "metadata": {},
   "outputs": [
    {
     "name": "stdout",
     "output_type": "stream",
     "text": [
      "Enter a number: 10.0\n",
      "Error: That's not a valid integer.\n"
     ]
    }
   ],
   "source": [
    "#B. Handle invalid input types\n",
    "try:\n",
    "    num = int(input(\"Enter a number: \"))\n",
    "    print(\"You entered:\", num)\n",
    "except ValueError:\n",
    "    print(\"Error: That's not a valid integer.\")"
   ]
  },
  {
   "cell_type": "code",
   "execution_count": 23,
   "id": "28138225",
   "metadata": {},
   "outputs": [
    {
     "name": "stdout",
     "output_type": "stream",
     "text": [
      "Error: File not found.\n"
     ]
    }
   ],
   "source": [
    "# C. Handle file not found error\n",
    "try:\n",
    "    with open(\"non_existing_file.txt\", \"r\") as f:\n",
    "        content = f.read()\n",
    "        print(content)\n",
    "except FileNotFoundError:\n",
    "    print(\"Error: File not found.\")"
   ]
  },
  {
   "cell_type": "code",
   "execution_count": 24,
   "id": "087080f8",
   "metadata": {},
   "outputs": [
    {
     "name": "stdout",
     "output_type": "stream",
     "text": [
      "File written.\n",
      "File closed.\n"
     ]
    }
   ],
   "source": [
    "# D. Using finally block\n",
    "try:\n",
    "    f = open(\"sample.txt\", \"w\")\n",
    "    f.write(\"This is a test.\")\n",
    "    print(\"File written.\")\n",
    "except IOError:\n",
    "    print(\"Error: Could not write to file.\")\n",
    "finally:\n",
    "    f.close()\n",
    "    print(\"File closed.\")"
   ]
  },
  {
   "cell_type": "code",
   "execution_count": 25,
   "id": "8e7fb125",
   "metadata": {},
   "outputs": [
    {
     "data": {
      "text/plain": [
       "'Create a program that:\\n\\nAccepts user info: name, age, and a list of skills.\\n\\nWrites this to a JSON file.\\n\\nThen attempts to read the file back and:\\n\\nIf successful, prints the data.\\n\\nIf the file is missing, shows an error and exits safely.'"
      ]
     },
     "execution_count": 25,
     "metadata": {},
     "output_type": "execute_result"
    }
   ],
   "source": [
    "'''Create a program that:\n",
    "\n",
    "Accepts user info: name, age, and a list of skills.\n",
    "\n",
    "Writes this to a JSON file.\n",
    "\n",
    "Then attempts to read the file back and:\n",
    "\n",
    "If successful, prints the data.\n",
    "\n",
    "If the file is missing, shows an error and exits safely.'''"
   ]
  },
  {
   "cell_type": "code",
   "execution_count": 26,
   "id": "df0a9e9f",
   "metadata": {},
   "outputs": [],
   "source": [
    "###Lab Assignment: CSV, Pandas & Object-Oriented Programming (OOP)"
   ]
  },
  {
   "cell_type": "code",
   "execution_count": 27,
   "id": "8a6c0c43",
   "metadata": {},
   "outputs": [
    {
     "name": "stdout",
     "output_type": "stream",
     "text": [
      "CSV file written.\n"
     ]
    }
   ],
   "source": [
    "# Part 1: CSV Reading and Writing\n",
    "# A. Write a list of student dictionaries to a CSV file\n",
    "import csv\n",
    "\n",
    "students = [\n",
    "    {\"name\": \"Alice\", \"score\": 88},\n",
    "    {\"name\": \"Bob\", \"score\": 76},\n",
    "    {\"name\": \"Charlie\", \"score\": 93}\n",
    "]\n",
    "\n",
    "with open(\"students.csv\", \"w\", newline=\"\") as f:\n",
    "    writer = csv.DictWriter(f, fieldnames=[\"name\", \"score\"])\n",
    "    writer.writeheader()\n",
    "    writer.writerows(students)\n",
    "\n",
    "print(\"CSV file written.\")"
   ]
  },
  {
   "cell_type": "code",
   "execution_count": 28,
   "id": "d8ef1c18",
   "metadata": {},
   "outputs": [
    {
     "name": "stdout",
     "output_type": "stream",
     "text": [
      "Alice scored 88\n",
      "Bob scored 76\n",
      "Charlie scored 93\n"
     ]
    }
   ],
   "source": [
    "#B. Read the CSV file and print student names and scores\n",
    "with open(\"students.csv\", \"r\") as f:\n",
    "    reader = csv.DictReader(f)\n",
    "    for row in reader:\n",
    "        print(f\"{row['name']} scored {row['score']}\")"
   ]
  },
  {
   "cell_type": "code",
   "execution_count": 29,
   "id": "2e1af543",
   "metadata": {},
   "outputs": [
    {
     "name": "stdout",
     "output_type": "stream",
     "text": [
      "      name  score\n",
      "0    Alice     88\n",
      "1      Bob     76\n",
      "2  Charlie     93\n",
      "\n",
      "Summary Statistics:\n",
      "           score\n",
      "count   3.000000\n",
      "mean   85.666667\n",
      "std     8.736895\n",
      "min    76.000000\n",
      "25%    82.000000\n",
      "50%    88.000000\n",
      "75%    90.500000\n",
      "max    93.000000\n"
     ]
    }
   ],
   "source": [
    "# Part 2: Basic Data Analysis with Pandas\n",
    "# A. Read students.csv with pandas and display summary\n",
    "import pandas as pd\n",
    "\n",
    "df = pd.read_csv(\"students.csv\")\n",
    "print(df.head())\n",
    "print(\"\\nSummary Statistics:\")\n",
    "print(df.describe())"
   ]
  },
  {
   "cell_type": "code",
   "execution_count": 30,
   "id": "f30bc29e",
   "metadata": {},
   "outputs": [
    {
     "name": "stdout",
     "output_type": "stream",
     "text": [
      "      name  score Result\n",
      "0    Alice     88   Pass\n",
      "1      Bob     76   Fail\n",
      "2  Charlie     93   Pass\n"
     ]
    }
   ],
   "source": [
    "#B. Add a column for Pass/Fail based on score >= 80\n",
    "df[\"Result\"] = df[\"score\"].apply(lambda x: \"Pass\" if x >= 80 else \"Fail\")\n",
    "print(df)"
   ]
  },
  {
   "cell_type": "code",
   "execution_count": 31,
   "id": "25a9acc6",
   "metadata": {},
   "outputs": [
    {
     "name": "stdout",
     "output_type": "stream",
     "text": [
      "Updated CSV saved.\n"
     ]
    }
   ],
   "source": [
    "# C. Save updated DataFrame to a new CSV\n",
    "df.to_csv(\"students_with_results.csv\", index=False)\n",
    "print(\"Updated CSV saved.\")"
   ]
  },
  {
   "cell_type": "code",
   "execution_count": 32,
   "id": "7c689dc9",
   "metadata": {},
   "outputs": [
    {
     "name": "stdout",
     "output_type": "stream",
     "text": [
      "Alice passed: True\n"
     ]
    }
   ],
   "source": [
    "# Part 3: Object-Oriented Programming (OOP)\n",
    "# A. Create a Student class with attributes and method\n",
    "class Student:\n",
    "    def __init__(self, name, score):\n",
    "        self.name = name\n",
    "        self.score = score\n",
    "\n",
    "    def has_passed(self):\n",
    "        return self.score >= 80\n",
    "\n",
    "# Example usage\n",
    "s1 = Student(\"Alice\", 88)\n",
    "print(f\"{s1.name} passed: {s1.has_passed()}\")"
   ]
  },
  {
   "cell_type": "code",
   "execution_count": 33,
   "id": "abfad211",
   "metadata": {},
   "outputs": [
    {
     "name": "stdout",
     "output_type": "stream",
     "text": [
      "Bob: Fail\n",
      "Charlie: Pass\n",
      "Diana: Pass\n"
     ]
    }
   ],
   "source": [
    "#B. Create a list of Student objects and display results\n",
    "students_list = [\n",
    "    Student(\"Bob\", 76),\n",
    "    Student(\"Charlie\", 93),\n",
    "    Student(\"Diana\", 81)\n",
    "]\n",
    "\n",
    "for student in students_list:\n",
    "    print(f\"{student.name}: {'Pass' if student.has_passed() else 'Fail'}\")"
   ]
  },
  {
   "cell_type": "code",
   "execution_count": 36,
   "id": "23c9e25d",
   "metadata": {},
   "outputs": [],
   "source": [
    "#C. Extend the class to include a method to convert to dictionary\n",
    "# Updated Student class with to_dict() method\n",
    "class Student:\n",
    "    def __init__(self, name, score):\n",
    "        self.name = name\n",
    "        self.score = score\n",
    "\n",
    "    def has_passed(self):\n",
    "        return self.score >= 80\n",
    "\n",
    "    def to_dict(self):\n",
    "        return {\n",
    "            \"name\": self.name,\n",
    "            \"score\": self.score,\n",
    "            \"result\": \"Pass\" if self.has_passed() else \"Fail\"\n",
    "        }\n",
    "\n",
    "# Create the students list AFTER defining the full class\n",
    "students_list = [\n",
    "    Student(\"Alice\", 85),\n",
    "    Student(\"Bob\", 72),\n",
    "    Student(\"Charlie\", 90),\n",
    "    Student(\"Diana\", 65)\n",
    "]\n",
    "\n",
    "# Convert all student objects to dicts and save as CSV\n",
    "import pandas as pd\n",
    "student_dicts = [s.to_dict() for s in students_list]\n",
    "df_students = pd.DataFrame(student_dicts)\n",
    "df_students.to_csv(\"students_class_output.csv\", index=False)"
   ]
  },
  {
   "cell_type": "code",
   "execution_count": 35,
   "id": "acfd19a6",
   "metadata": {},
   "outputs": [
    {
     "data": {
      "text/plain": [
       "'Build a class called Course that:\\n\\nTakes a course name and a list of Student objects\\n\\nCan calculate the class average\\n\\nCan print a list of passed and failed students'"
      ]
     },
     "execution_count": 35,
     "metadata": {},
     "output_type": "execute_result"
    }
   ],
   "source": [
    "'''Build a class called Course that:\n",
    "\n",
    "Takes a course name and a list of Student objects\n",
    "\n",
    "Can calculate the class average\n",
    "\n",
    "Can print a list of passed and failed students'''"
   ]
  },
  {
   "cell_type": "code",
   "execution_count": 2,
   "id": "b78f62cf",
   "metadata": {},
   "outputs": [
    {
     "name": "stdout",
     "output_type": "stream",
     "text": [
      "Fetching posts with query='AI job displacement' subreddit=''\n",
      "Error: 403\n",
      "No posts found. Try using a broader query or no subreddit.\n"
     ]
    }
   ],
   "source": [
    "import requests\n",
    "import time\n",
    "import csv\n",
    "\n",
    "def get_reddit_posts(query, subreddit=\"\", size=10):\n",
    "    url = \"https://api.pushshift.io/reddit/search/submission/\"\n",
    "    params = {\n",
    "        \"q\": query,\n",
    "        \"subreddit\": subreddit or None,\n",
    "        \"size\": size,\n",
    "        \"sort\": \"desc\",\n",
    "        \"sort_type\": \"created_utc\"\n",
    "    }\n",
    "    print(f\"Fetching posts with query='{query}' subreddit='{subreddit}'\")\n",
    "    response = requests.get(url, params=params)\n",
    "    if response.status_code == 200:\n",
    "        data = response.json().get(\"data\", [])\n",
    "        print(f\"Found {len(data)} posts\")\n",
    "        return data\n",
    "    else:\n",
    "        print(\"Error:\", response.status_code)\n",
    "    return []\n",
    "\n",
    "def get_comments_for_post(post_id, size=5):\n",
    "    url = \"https://api.pushshift.io/reddit/search/comment/\"\n",
    "    params = {\n",
    "        \"link_id\": f\"t3_{post_id}\",\n",
    "        \"size\": size\n",
    "    }\n",
    "    response = requests.get(url, params=params)\n",
    "    if response.status_code == 200:\n",
    "        return response.json().get(\"data\", [])\n",
    "    return []\n",
    "\n",
    "def scrape_and_save(query, subreddit=\"\", post_limit=10, comment_limit=5, output_file=\"reddit_data.csv\"):\n",
    "    posts = get_reddit_posts(query, subreddit, size=post_limit)\n",
    "    if not posts:\n",
    "        print(\"No posts found. Try using a broader query or no subreddit.\")\n",
    "        return\n",
    "\n",
    "    with open(output_file, mode='w', newline='', encoding='utf-8') as file:\n",
    "        writer = csv.writer(file)\n",
    "        writer.writerow([\"Post Title\", \"Post Text\", \"Post URL\", \"Comment\"])\n",
    "\n",
    "        for post in posts:\n",
    "            title = post.get(\"title\", \"\")\n",
    "            selftext = post.get(\"selftext\", \"\")\n",
    "            post_id = post.get(\"id\", \"\")\n",
    "            url = f\"https://www.reddit.com{post.get('permalink', '')}\"\n",
    "\n",
    "            print(f\"📌 Post: {title[:60]}...\")\n",
    "\n",
    "            comments = get_comments_for_post(post_id, size=comment_limit)\n",
    "            if not comments:\n",
    "                writer.writerow([title, selftext, url, \"\"])\n",
    "            else:\n",
    "                for comment in comments:\n",
    "                    comment_text = comment.get(\"body\", \"\")\n",
    "                    writer.writerow([title, selftext, url, comment_text])\n",
    "            time.sleep(1)\n",
    "\n",
    "    print(f\"\\n✅ Data saved to {output_file}\")\n",
    "\n",
    "# Run the scraper\n",
    "if __name__ == \"__main__\":\n",
    "    scrape_and_save(\n",
    "        query=\"AI job displacement\",\n",
    "        subreddit=\"\",               # Empty to search all of Reddit\n",
    "        post_limit=10,\n",
    "        comment_limit=5,\n",
    "        output_file=\"ai_job_displacement_reddit.csv\"\n",
    "    )\n",
    "\n"
   ]
  },
  {
   "cell_type": "code",
   "execution_count": null,
   "id": "6c7f1fe4",
   "metadata": {},
   "outputs": [],
   "source": []
  }
 ],
 "metadata": {
  "kernelspec": {
   "display_name": "Python 3 (ipykernel)",
   "language": "python",
   "name": "python3"
  },
  "language_info": {
   "codemirror_mode": {
    "name": "ipython",
    "version": 3
   },
   "file_extension": ".py",
   "mimetype": "text/x-python",
   "name": "python",
   "nbconvert_exporter": "python",
   "pygments_lexer": "ipython3",
   "version": "3.7.10"
  }
 },
 "nbformat": 4,
 "nbformat_minor": 5
}
